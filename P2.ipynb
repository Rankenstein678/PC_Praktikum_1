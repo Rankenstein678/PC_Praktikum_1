{
 "cells": [
  {
   "cell_type": "code",
   "id": "48f670b592569e4f",
   "metadata": {
    "ExecuteTime": {
     "end_time": "2025-02-25T18:48:57.248039Z",
     "start_time": "2025-02-25T18:48:57.099219Z"
    }
   },
   "source": [
    "import numpy as np\n",
    "import matplotlib.pyplot as plt\n",
    "from scipy.differentiate import derivative\n"
   ],
   "outputs": [],
   "execution_count": 55
  },
  {
   "cell_type": "markdown",
   "id": "b5a4ea98c22c1551",
   "metadata": {},
   "source": [
    "## Herstellen der Ammoniak Lösung"
   ]
  },
  {
   "cell_type": "code",
   "id": "9883b70c57edd30c",
   "metadata": {
    "ExecuteTime": {
     "end_time": "2025-02-25T18:50:40.482022Z",
     "start_time": "2025-02-25T18:50:40.471635Z"
    }
   },
   "source": [
    "\n",
    "Dichte_Lsg = 0.907  # bei 20 C, https://www.carlroth.com/medias/SDB-6774-AT-DE.pdf?context=bWFzdGVyfHNlY3VyaXR5RGF0YXNoZWV0c3wzMzQ4Mjd8YXBwbGljYXRpb24vcGRmfGFEa3dMMmhrTkM4NU1UZ3dOelF5TWpVME5qSXlMMU5FUWw4Mk56YzBYMEZVWDBSRkxuQmtaZ3w3ZWMyMDJjYTk1MDJkYzY3ZDQ3ZTJmY2Q3YjU0ZTNkMjMyNmI4ZDEzYWU5NDYxNjQzMzJlYTExNzIxNTA5MzA2\n",
    "Molmasse_NH3 = 17.031  # g/mol\n",
    "\n",
    "c0_NH3 = 0.25 * ((Dichte_Lsg * 1e3) / Molmasse_NH3)\n",
    "Volumen_Lsg = 100 / c0_NH3  #mL\n",
    "print(\"benötigtes Volumen 25%NH3 Lösung für 100mL: V(NH3)=\" + str(round(Volumen_Lsg, 5)) + \"mL\")"
   ],
   "outputs": [
    {
     "name": "stdout",
     "output_type": "stream",
     "text": [
      "benötigtes Volumen 25%NH3 Lösung für 100mL: V(NH3)=7.51092mL\n"
     ]
    }
   ],
   "execution_count": 60
  },
  {
   "cell_type": "code",
   "id": "c8f98ded-3725-434f-bc27-e523e5d62953",
   "metadata": {
    "ExecuteTime": {
     "end_time": "2025-02-25T19:05:39.584294Z",
     "start_time": "2025-02-25T19:05:39.567557Z"
    }
   },
   "source": [
    "#!!!Konzentration der Ammoniak-Lsg?!!!:\n",
    "\n",
    "\n",
    "c0_NH3 = 1  # mol/L\n",
    "\n",
    "KL_AgCl = 1.76e-10  # mol^2/L^2\n",
    "c_KI = 5e-2  # mol/L\n",
    "c0_Cl = 0.1  # mol/L\n",
    "c0_Ag = 0.1  # mol/L\n",
    "V0_NH3 = 20e-3  # L\n",
    "V_Lsg = 60e-3  # L\n",
    "\n",
    "\n",
    "def Auswertung(V0_Ag, V0_Cl, V_KI):  # Eingabe : mL\n",
    "    # Umrechnung in SI Einheiten\n",
    "    V0_Ag = V0_Ag * 1e-3\n",
    "    V0_Cl = V0_Cl * 1e-3\n",
    "    V_KI = V_KI * 1e-3\n",
    "\n",
    "    # (Hier sollte beobachtet werden ob das Volumen nach dem Filtern sinkt\n",
    "    # und ob eine individuelle Volumenbestimmung besser wäre\n",
    "    n_Komp = (60 / 25) * c_KI * V_KI  # mol\n",
    "    c_Komp = n_Komp / V_Lsg  # mol/L\n",
    "\n",
    "    c_Cl = (c0_Cl * V0_Cl - ((c0_Ag * V0_Ag) - n_Komp)) / V_Lsg\n",
    "    c_NH3 = (c0_NH3 * V0_NH3 - 2 * n_Komp) / V_Lsg\n",
    "\n",
    "    K = c_Cl * c_Komp / ((c_NH3 ** 2) * KL_AgCl)\n",
    "\n",
    "    return [K, c_Komp, c_Cl, c_NH3]\n",
    "\n",
    "\n",
    "V1 = Auswertung(20, 20, 8)\n",
    "print(\n",
    "    f\"\"\"Lauf 1:\n",
    "    Komplexbildungskonstante KL = {np.format_float_scientific(V1[0])}\n",
    "    Konzentration des Diamminsilbers {V1[1]}\n",
    "    Konzentration des Chlorids {V1[2]}\n",
    "    Konzentration des Ammoniaks {V1[3]}\"\"\")"
   ],
   "outputs": [
    {
     "name": "stdout",
     "output_type": "stream",
     "text": [
      "Lauf 1:\n",
      "    Komplexbildungskonstante KL = 1.6018909432645822e+07\n",
      "    Konzentration des Diamminsilbers 0.016\n",
      "    Konzentration des Chlorids 0.016\n",
      "    Konzentration des Ammoniaks 0.30133333333333334\n"
     ]
    }
   ],
   "execution_count": 63
  },
  {
   "metadata": {
    "ExecuteTime": {
     "end_time": "2025-02-25T19:09:19.405527Z",
     "start_time": "2025-02-25T19:09:19.394866Z"
    }
   },
   "cell_type": "code",
   "source": [
    "# Erneuter Print für geordnetere Auswertung\n",
    "print(\n",
    "    f\"\"\"Lauf 1:\n",
    "    Komplexbildungskonstante KL = {np.format_float_scientific(V1[0])}\n",
    "    Konzentration des Diamminsilbers {V1[1]}\n",
    "    Konzentration des Chlorids {V1[2]}\n",
    "    Konzentration des Ammoniaks {V1[3]}\"\"\")\n",
    "V2 = Auswertung(\n",
    "    0,  # V0_Ag\n",
    "    0,  # V0_Cl\n",
    "    0,  # V_KI\n",
    ")\n",
    "print(\n",
    "    f\"\"\"Lauf 2:\n",
    "    Komplexbildungskonstante KL = {np.format_float_scientific(V2[0])}\n",
    "    Konzentration des Diamminsilbers {V2[1]}\n",
    "    Konzentration des Chlorids {V2[2]}\n",
    "    Konzentration des Ammoniaks {V2[3]}\"\"\")\n",
    "V3 = Auswertung(\n",
    "    0,  # V0_Ag\n",
    "    0,  # V0_Cl\n",
    "    0,  # V_KI\n",
    ")\n",
    "print(\n",
    "    f\"\"\"Lauf 3:\n",
    "    Komplexbildungskonstante KL = {np.format_float_scientific(V3[0])}\n",
    "    Konzentration des Diamminsilbers {V3[1]}\n",
    "    Konzentration des Chlorids {V3[2]}\n",
    "    Konzentration des Ammoniaks {V3[3]}\"\"\")\n",
    "\n",
    "print(f\"\"\"\n",
    "Auswertung:\n",
    "    Mittelwert KL = {np.format_float_scientific(np.mean([V1[0], V2[0], V3[0]]))}\"\"\")"
   ],
   "id": "49a8c8b1d8e14f8b",
   "outputs": [
    {
     "name": "stdout",
     "output_type": "stream",
     "text": [
      "Lauf 1:\n",
      "    Komplexbildungskonstante KL = 1.6018909432645822e+07\n",
      "    Konzentration des Diamminsilbers 0.016\n",
      "    Konzentration des Chlorids 0.016\n",
      "    Konzentration des Ammoniaks 0.30133333333333334\n",
      "Lauf 2:\n",
      "    Komplexbildungskonstante KL = 0.e+00\n",
      "    Konzentration des Diamminsilbers 0.0\n",
      "    Konzentration des Chlorids 0.0\n",
      "    Konzentration des Ammoniaks 0.33333333333333337\n",
      "Lauf 3:\n",
      "    Komplexbildungskonstante KL = 0.e+00\n",
      "    Konzentration des Diamminsilbers 0.0\n",
      "    Konzentration des Chlorids 0.0\n",
      "    Konzentration des Ammoniaks 0.33333333333333337\n",
      "\n",
      "Auswertung:\n",
      "    Mittelwert KL = 5.339636477548608e+06\n"
     ]
    }
   ],
   "execution_count": 66
  }
 ],
 "metadata": {
  "kernelspec": {
   "display_name": "Python 3 (ipykernel)",
   "language": "python",
   "name": "python3"
  },
  "language_info": {
   "codemirror_mode": {
    "name": "ipython",
    "version": 3
   },
   "file_extension": ".py",
   "mimetype": "text/x-python",
   "name": "python",
   "nbconvert_exporter": "python",
   "pygments_lexer": "ipython3",
   "version": "3.12.7"
  }
 },
 "nbformat": 4,
 "nbformat_minor": 5
}
