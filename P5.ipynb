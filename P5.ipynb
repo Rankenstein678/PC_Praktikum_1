{
 "cells": [
  {
   "cell_type": "code",
   "execution_count": 4,
   "id": "cc366123-3449-4b3c-adcc-60c97ed52d0f",
   "metadata": {},
   "outputs": [
    {
     "name": "stdout",
     "output_type": "stream",
     "text": [
      "Es werden 30.0 mL NaOH auf 500 mL verdünnt\n",
      "Es werden 1.4651773835920174 mL EE auf 500 mL verdünnt\n"
     ]
    }
   ],
   "source": [
    "V = 500e-3\n",
    "\n",
    "c_ges = 0.03\n",
    "c1_naoh = 0.5\n",
    "print(f\"Es werden {c_ges*V/c1_naoh *1e3} mL NaOH auf 500 mL verdünnt\")\n",
    "\n",
    "M_EE = 4 * 12.011 + 2* 15.999 + 8 * 1.008\n",
    "dichte_EE = 0.902e3\n",
    "print(f\"Es werden {c_ges*V*M_EE/dichte_EE*1e3} mL EE auf 500 mL verdünnt\")\n"
   ]
  }
 ],
 "metadata": {
  "kernelspec": {
   "display_name": "Python 3 (ipykernel)",
   "language": "python",
   "name": "python3"
  },
  "language_info": {
   "codemirror_mode": {
    "name": "ipython",
    "version": 3
   },
   "file_extension": ".py",
   "mimetype": "text/x-python",
   "name": "python",
   "nbconvert_exporter": "python",
   "pygments_lexer": "ipython3",
   "version": "3.12.7"
  }
 },
 "nbformat": 4,
 "nbformat_minor": 5
}
