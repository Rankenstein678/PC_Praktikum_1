{
 "cells": [
  {
   "metadata": {},
   "cell_type": "code",
   "outputs": [],
   "execution_count": null,
   "source": [
    "import numpy as np\n",
    "import matplotlib.pyplot as plt\n",
    "import matplotlib.ticker as ticker"
   ],
   "id": "2bb097150335ed7a"
  },
  {
   "metadata": {},
   "cell_type": "markdown",
   "source": "Bei den folgenden Rechnungen wird angenommen, dass die Zugabe der Feststoffe keinen messbaren Einfluss auf das Volumen hat.",
   "id": "cd08b98c2be9f45d"
  },
  {
   "metadata": {},
   "cell_type": "code",
   "outputs": [],
   "execution_count": null,
   "source": [
    "M_KIO3 = 39.098 + 126.90 + 3 * 15.999\n",
    "c_KIO3 = 2e-2\n",
    "n_KIO3 = c_KIO3 * 250e-3\n",
    "\n",
    "m_KIO3 = M_KIO3 * n_KIO3\n",
    "print(f\"Es werden {round(m_KIO3,4)} g Kaliumiodat auf 250 mL Wasser gegeben\")"
   ],
   "id": "882f3657dd0a686f"
  },
  {
   "metadata": {},
   "cell_type": "code",
   "outputs": [],
   "execution_count": null,
   "source": [
    "M_Na2S2O5 = 2* 22.990 + 2 * 32.06 + 5 * 15.999\n",
    "c_Na2S2O5 = 7.5e-3\n",
    "n_Na2S2O5 = c_Na2S2O5 * 500e-3\n",
    "m_Na2S2O5 = M_Na2S2O5 * n_Na2S2O5\n",
    "print(f\"Es werden {round(m_Na2S2O5,4)} g Natriumdisulfit auf 500 mL Wasser gegeben\")"
   ],
   "id": "845f078e6b8fdc25"
  }
 ],
 "metadata": {},
 "nbformat": 5,
 "nbformat_minor": 9
}
