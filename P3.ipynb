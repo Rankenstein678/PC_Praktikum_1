{
 "cells": [
  {
   "cell_type": "code",
   "execution_count": 1,
   "id": "50987c0896ce738",
   "metadata": {
    "ExecuteTime": {
     "end_time": "2025-03-03T21:13:53.283345Z",
     "start_time": "2025-03-03T21:13:53.278214Z"
    }
   },
   "outputs": [
    {
     "name": "stderr",
     "output_type": "stream",
     "text": [
      "/tmp/ipykernel_168635/1366643885.py:6: DeprecationWarning: Importing display from IPython.core.display is deprecated since IPython 7.14, please import from IPython.display\n",
      "  from IPython.core.display import display\n"
     ]
    }
   ],
   "source": [
    "import numpy as np\n",
    "import matplotlib.pyplot as plt\n",
    "import matplotlib.ticker as ticker\n",
    "import math\n",
    "import tabulate\n",
    "from IPython.core.display import display"
   ]
  },
  {
   "cell_type": "markdown",
   "id": "f0c916b7df871fa0",
   "metadata": {},
   "source": []
  },
  {
   "cell_type": "markdown",
   "id": "f63f481a95354ccb",
   "metadata": {},
   "source": [
    "Bei den folgenden Rechnungen wird angenommen, dass die Zugabe der Feststoffe keinen messbaren Einfluss auf das Volumen hat."
   ]
  },
  {
   "cell_type": "code",
   "execution_count": 2,
   "id": "94fc761271f71683",
   "metadata": {
    "ExecuteTime": {
     "end_time": "2025-03-03T20:56:47.427945Z",
     "start_time": "2025-03-03T20:56:47.421237Z"
    }
   },
   "outputs": [
    {
     "name": "stdout",
     "output_type": "stream",
     "text": [
      "Es werden 1.07 g Kaliumiodat auf 250 mL Wasser gegeben\n"
     ]
    }
   ],
   "source": [
    "M_KIO3 = 39.098 + 126.90 + 3 * 15.999\n",
    "c_KIO3 = 2e-2\n",
    "n_KIO3 = c_KIO3 * 250e-3\n",
    "\n",
    "m_KIO3 = M_KIO3 * n_KIO3\n",
    "print(f\"Es werden {round(m_KIO3, 4)} g Kaliumiodat auf 250 mL Wasser gegeben\")"
   ]
  },
  {
   "cell_type": "code",
   "execution_count": 3,
   "id": "ad489e1ec6ab09df",
   "metadata": {
    "ExecuteTime": {
     "end_time": "2025-03-03T20:56:47.483043Z",
     "start_time": "2025-03-03T20:56:47.476225Z"
    }
   },
   "outputs": [
    {
     "name": "stdout",
     "output_type": "stream",
     "text": [
      "Es werden 0.7129 g Natriumdisulfit auf 500 mL Wasser gegeben\n"
     ]
    }
   ],
   "source": [
    "M_Na2S2O5 = 2 * 22.990 + 2 * 32.06 + 5 * 15.999\n",
    "c_Na2S2O5 = 7.5e-3\n",
    "n_Na2S2O5 = c_Na2S2O5 * 500e-3\n",
    "m_Na2S2O5 = M_Na2S2O5 * n_Na2S2O5\n",
    "print(f\"Es werden {round(m_Na2S2O5, 4)} g Natriumdisulfit auf 500 mL Wasser gegeben\")"
   ]
  },
  {
   "cell_type": "markdown",
   "id": "b9997a2eed7821db",
   "metadata": {},
   "source": []
  },
  {
   "cell_type": "code",
   "execution_count": 4,
   "id": "4b0e020f2902ac1a",
   "metadata": {
    "ExecuteTime": {
     "end_time": "2025-03-03T20:56:47.545788Z",
     "start_time": "2025-03-03T20:56:47.539714Z"
    }
   },
   "outputs": [],
   "source": [
    "m_ein_KIO3 = 0\n",
    "m_ein_Disulffit = 0.715\n",
    "\n",
    "def realtionsgeschwindigkeit(t_Farbaenderung: float) -> float:\n",
    "    c_Hydrogensulfit = (2 *( (m_ein_Disulffit/M_Na2S2O5)/500e-3 )* 50e-3) / 104e-3\n",
    "    return c_Hydrogensulfit / (5 * t_Farbaenderung)"
   ]
  },
  {
   "cell_type": "code",
   "execution_count": 5,
   "id": "bcfc6de4fa2820c4",
   "metadata": {
    "ExecuteTime": {
     "end_time": "2025-03-03T20:56:47.696359Z",
     "start_time": "2025-03-03T20:56:47.608833Z"
    }
   },
   "outputs": [
    {
     "name": "stdout",
     "output_type": "stream",
     "text": [
      "[3.214766885563067e-05, 3.287829769325864e-05, 3.287829769325864e-05]\n"
     ]
    }
   ],
   "source": [
    "ansatz_1_probe_1 = realtionsgeschwindigkeit(\n",
    "    t_Farbaenderung=45  # s\n",
    ")\n",
    "\n",
    "ansatz_1_probe_2 = realtionsgeschwindigkeit(\n",
    "    t_Farbaenderung=44  # s\n",
    ")\n",
    "\n",
    "ansatz_1_probe_3 = realtionsgeschwindigkeit(\n",
    "    t_Farbaenderung=44  # s\n",
    ")\n",
    "print([ansatz_1_probe_1, ansatz_1_probe_2, ansatz_1_probe_3])\n"
   ]
  },
  {
   "cell_type": "code",
   "execution_count": 6,
   "id": "b1722fb108694b7c",
   "metadata": {
    "ExecuteTime": {
     "end_time": "2025-03-03T20:59:12.986259Z",
     "start_time": "2025-03-03T20:59:12.919188Z"
    }
   },
   "outputs": [
    {
     "name": "stdout",
     "output_type": "stream",
     "text": [
      "[1.643914884662932e-05, 1.625443930902674e-05, 1.643914884662932e-05]\n"
     ]
    }
   ],
   "source": [
    "\n",
    "ansatz_2_probe_1 = realtionsgeschwindigkeit(\n",
    "    t_Farbaenderung=88  # s\n",
    ")\n",
    "\n",
    "ansatz_2_probe_2 = realtionsgeschwindigkeit(\n",
    "    t_Farbaenderung=89  # s\n",
    ")\n",
    "\n",
    "ansatz_2_probe_3 = realtionsgeschwindigkeit(\n",
    "    t_Farbaenderung=88  # s\n",
    ")\n",
    "print([ansatz_2_probe_1, ansatz_2_probe_2, ansatz_2_probe_3])\n"
   ]
  },
  {
   "cell_type": "markdown",
   "id": "cfa0673394f7a60d",
   "metadata": {},
   "source": []
  },
  {
   "cell_type": "code",
   "execution_count": 7,
   "id": "4030c4233512a449",
   "metadata": {
    "ExecuteTime": {
     "end_time": "2025-03-03T22:45:26.713038Z",
     "start_time": "2025-03-03T22:45:25.877996Z"
    }
   },
   "outputs": [],
   "source": [
    "def reaktionsordnung(v_ansatz_1, v_ansatz_2):\n",
    "    return np.log2(v_ansatz_1 / v_ansatz_2)\n",
    "\n",
    "a1 = [ansatz_1_probe_1,ansatz_1_probe_2,ansatz_1_probe_3]\n",
    "a2 = [ansatz_2_probe_1,ansatz_2_probe_2,ansatz_2_probe_3]\n",
    "\n",
    "data = [\n",
    "    [\"Ansatz 1\",\"Ansatz 2\",\"Ordnung\"]\n",
    "]\n",
    "for i in range(len(a1)):\n",
    "    for j in range(len(a2)):\n",
    "        data.append([i+1,j+1,reaktionsordnung(a1[i],a2[j])])\n",
    "\n"
   ]
  },
  {
   "cell_type": "code",
   "execution_count": 16,
   "id": "1bb2c4be-3e9c-4860-8950-776791e27a69",
   "metadata": {},
   "outputs": [
    {
     "data": {
      "text/plain": [
       "'4.807692307692308e-03'"
      ]
     },
     "execution_count": 16,
     "metadata": {},
     "output_type": "execute_result"
    }
   ],
   "source": [
    "table_to_print = [\n",
    "    [\"Einwaage Natriumdisulfid / g\", \"Einwaage Kaliumiodat / g\", \"v1 / mol /(L * s)\", \"v2 / mol / (L * s)\"],\n",
    "    [\"0,715\", \"1,070\", (ansatz_1_probe_1) , (ansatz_2_probe_1)],\n",
    "    [\"0,715\", \"1,,070\", (ansatz_1_probe_2), (ansatz_2_probe_2)],\n",
    "    [\"0,715\", \"1,070\", (ansatz_1_probe_3), (ansatz_2_probe_3)],\n",
    "]\n",
    "\n",
    "np.format_float_scientific(2e-2*25e-3/104e-3)\n"
   ]
  },
  {
   "cell_type": "code",
   "execution_count": 9,
   "id": "1f27364a-e8d4-46f7-b530-0238a9ca2c3e",
   "metadata": {},
   "outputs": [
    {
     "name": "stdout",
     "output_type": "stream",
     "text": [
      "Daten\n"
     ]
    },
    {
     "data": {
      "text/html": [
       "<table>\n",
       "<tbody>\n",
       "<tr><td>Einwaage Natriumdisulfid / g</td><td>Einwaage Kaliumiodat / g</td><td>v1 / mol /(L * s)    </td><td>v2 / mol / (L * s)   </td></tr>\n",
       "<tr><td>0,715                       </td><td>1,070                   </td><td>3.214766885563067e-05</td><td>1.643914884662932e-05</td></tr>\n",
       "<tr><td>0,715                       </td><td>1,,070                  </td><td>3.287829769325864e-05</td><td>1.625443930902674e-05</td></tr>\n",
       "<tr><td>0,715                       </td><td>1,070                   </td><td>3.287829769325864e-05</td><td>1.643914884662932e-05</td></tr>\n",
       "</tbody>\n",
       "</table>"
      ],
      "text/plain": [
       "'<table>\\n<tbody>\\n<tr><td>Einwaage Natriumdisulfid / g</td><td>Einwaage Kaliumiodat / g</td><td>v1 / mol /(L * s)    </td><td>v2 / mol / (L * s)   </td></tr>\\n<tr><td>0,715                       </td><td>1,070                   </td><td>3.214766885563067e-05</td><td>1.643914884662932e-05</td></tr>\\n<tr><td>0,715                       </td><td>1,,070                  </td><td>3.287829769325864e-05</td><td>1.625443930902674e-05</td></tr>\\n<tr><td>0,715                       </td><td>1,070                   </td><td>3.287829769325864e-05</td><td>1.643914884662932e-05</td></tr>\\n</tbody>\\n</table>'"
      ]
     },
     "metadata": {},
     "output_type": "display_data"
    },
    {
     "name": "stdout",
     "output_type": "stream",
     "text": [
      "Ergebnisse\n"
     ]
    },
    {
     "data": {
      "text/html": [
       "<table>\n",
       "<tbody>\n",
       "<tr><td>Ansatz 1</td><td>Ansatz 2</td><td>Ordnung           </td></tr>\n",
       "<tr><td>1       </td><td>1       </td><td>0.9675785223076223</td></tr>\n",
       "<tr><td>1       </td><td>2       </td><td>0.9838803346367231</td></tr>\n",
       "<tr><td>1       </td><td>3       </td><td>0.9675785223076223</td></tr>\n",
       "<tr><td>2       </td><td>1       </td><td>1.0               </td></tr>\n",
       "<tr><td>2       </td><td>2       </td><td>1.0163018123291006</td></tr>\n",
       "<tr><td>2       </td><td>3       </td><td>1.0               </td></tr>\n",
       "<tr><td>3       </td><td>1       </td><td>1.0               </td></tr>\n",
       "<tr><td>3       </td><td>2       </td><td>1.0163018123291006</td></tr>\n",
       "<tr><td>3       </td><td>3       </td><td>1.0               </td></tr>\n",
       "</tbody>\n",
       "</table>"
      ],
      "text/plain": [
       "'<table>\\n<tbody>\\n<tr><td>Ansatz 1</td><td>Ansatz 2</td><td>Ordnung           </td></tr>\\n<tr><td>1       </td><td>1       </td><td>0.9675785223076223</td></tr>\\n<tr><td>1       </td><td>2       </td><td>0.9838803346367231</td></tr>\\n<tr><td>1       </td><td>3       </td><td>0.9675785223076223</td></tr>\\n<tr><td>2       </td><td>1       </td><td>1.0               </td></tr>\\n<tr><td>2       </td><td>2       </td><td>1.0163018123291006</td></tr>\\n<tr><td>2       </td><td>3       </td><td>1.0               </td></tr>\\n<tr><td>3       </td><td>1       </td><td>1.0               </td></tr>\\n<tr><td>3       </td><td>2       </td><td>1.0163018123291006</td></tr>\\n<tr><td>3       </td><td>3       </td><td>1.0               </td></tr>\\n</tbody>\\n</table>'"
      ]
     },
     "metadata": {},
     "output_type": "display_data"
    },
    {
     "name": "stdout",
     "output_type": "stream",
     "text": [
      "Die mittlere Reaktionsordnung ist 0.994626778212241\n"
     ]
    }
   ],
   "source": [
    "print(\"Daten\")\n",
    "display((tabulate.tabulate(table_to_print,tablefmt=\"html\")))\n",
    "print(\"Ergebnisse\")\n",
    "display(tabulate.tabulate(data,tablefmt=\"html\"))\n",
    "print(f\"Die mittlere Reaktionsordnung ist {np.mean([data[x][2] for x in range(1,len(data))])}\")"
   ]
  }
 ],
 "metadata": {
  "kernelspec": {
   "display_name": "Python 3 (ipykernel)",
   "language": "python",
   "name": "python3"
  },
  "language_info": {
   "codemirror_mode": {
    "name": "ipython",
    "version": 3
   },
   "file_extension": ".py",
   "mimetype": "text/x-python",
   "name": "python",
   "nbconvert_exporter": "python",
   "pygments_lexer": "ipython3",
   "version": "3.12.7"
  }
 },
 "nbformat": 4,
 "nbformat_minor": 9
}
