{
 "cells": [
  {
   "cell_type": "code",
   "execution_count": 16,
   "id": "50987c0896ce738",
   "metadata": {
    "ExecuteTime": {
     "end_time": "2025-03-03T21:13:53.283345Z",
     "start_time": "2025-03-03T21:13:53.278214Z"
    }
   },
   "outputs": [],
   "source": [
    "import numpy as np\n",
    "import matplotlib.pyplot as plt\n",
    "import matplotlib.ticker as ticker\n",
    "import math"
   ]
  },
  {
   "cell_type": "markdown",
   "id": "f0c916b7df871fa0",
   "metadata": {},
   "source": [
    "$$\\require{mhchem}$$"
   ]
  },
  {
   "cell_type": "markdown",
   "id": "f63f481a95354ccb",
   "metadata": {},
   "source": [
    "Bei den folgenden Rechnungen wird angenommen, dass die Zugabe der Feststoffe keinen messbaren Einfluss auf das Volumen hat."
   ]
  },
  {
   "cell_type": "code",
   "execution_count": 7,
   "id": "94fc761271f71683",
   "metadata": {
    "ExecuteTime": {
     "end_time": "2025-03-03T20:56:47.427945Z",
     "start_time": "2025-03-03T20:56:47.421237Z"
    }
   },
   "outputs": [
    {
     "name": "stdout",
     "output_type": "stream",
     "text": [
      "Es werden 1.07 g Kaliumiodat auf 250 mL Wasser gegeben\n"
     ]
    }
   ],
   "source": [
    "M_KIO3 = 39.098 + 126.90 + 3 * 15.999\n",
    "c_KIO3 = 2e-2\n",
    "n_KIO3 = c_KIO3 * 250e-3\n",
    "\n",
    "m_KIO3 = M_KIO3 * n_KIO3\n",
    "print(f\"Es werden {round(m_KIO3, 4)} g Kaliumiodat auf 250 mL Wasser gegeben\")"
   ]
  },
  {
   "cell_type": "code",
   "execution_count": 8,
   "id": "ad489e1ec6ab09df",
   "metadata": {
    "ExecuteTime": {
     "end_time": "2025-03-03T20:56:47.483043Z",
     "start_time": "2025-03-03T20:56:47.476225Z"
    }
   },
   "outputs": [
    {
     "name": "stdout",
     "output_type": "stream",
     "text": [
      "Es werden 0.7129 g Natriumdisulfit auf 500 mL Wasser gegeben\n"
     ]
    }
   ],
   "source": [
    "M_Na2S2O5 = 2 * 22.990 + 2 * 32.06 + 5 * 15.999\n",
    "c_Na2S2O5 = 7.5e-3\n",
    "n_Na2S2O5 = c_Na2S2O5 * 500e-3\n",
    "m_Na2S2O5 = M_Na2S2O5 * n_Na2S2O5\n",
    "print(f\"Es werden {round(m_Na2S2O5, 4)} g Natriumdisulfit auf 500 mL Wasser gegeben\")"
   ]
  },
  {
   "cell_type": "markdown",
   "id": "b9997a2eed7821db",
   "metadata": {},
   "source": [
    "Folgende Reaktionsgleichungen gelten\n",
    "$$\\ce{IO3- + 3 HSO3- -> 3SO4^2- + I- + H+}$$\n",
    "$$\\ce{5I- + IO3- + 6H+ -> I2 + 3 H2O}$$\n",
    "$$\\ce{I2 + HSO3- + H2O-> SO4^2-I- + 3H+}$$\n",
    "Es folgt Brutto:\n",
    "$$\\ce{2 IO3- + 4 HSO3- ->[k] 5SO4^2- + H2O + I2 + 3H+}$$"
   ]
  },
  {
   "cell_type": "code",
   "execution_count": 9,
   "id": "4b0e020f2902ac1a",
   "metadata": {
    "ExecuteTime": {
     "end_time": "2025-03-03T20:56:47.545788Z",
     "start_time": "2025-03-03T20:56:47.539714Z"
    }
   },
   "outputs": [],
   "source": [
    "def realtionsgeschwindigkeit(t_Farbaenderung: float) -> float:\n",
    "    c_Hydrogensulfit = (2 * c_Na2S2O5 * 50e-3) / 104e-3\n",
    "    return c_Hydrogensulfit / (5 * t_Farbaenderung)"
   ]
  },
  {
   "cell_type": "code",
   "execution_count": 10,
   "id": "bcfc6de4fa2820c4",
   "metadata": {
    "ExecuteTime": {
     "end_time": "2025-03-03T20:56:47.696359Z",
     "start_time": "2025-03-03T20:56:47.608833Z"
    }
   },
   "outputs": [
    {
     "ename": "ZeroDivisionError",
     "evalue": "float division by zero",
     "output_type": "error",
     "traceback": [
      "\u001B[0;31m---------------------------------------------------------------------------\u001B[0m",
      "\u001B[0;31mZeroDivisionError\u001B[0m                         Traceback (most recent call last)",
      "Cell \u001B[0;32mIn[10], line 1\u001B[0m\n\u001B[0;32m----> 1\u001B[0m ansatz_1_probe_1 \u001B[38;5;241m=\u001B[39m \u001B[43mauswertung\u001B[49m\u001B[43m(\u001B[49m\n\u001B[1;32m      2\u001B[0m \u001B[43m    \u001B[49m\u001B[43mt_Farbaenderung\u001B[49m\u001B[38;5;241;43m=\u001B[39;49m\u001B[38;5;241;43m0\u001B[39;49m\u001B[43m \u001B[49m\u001B[38;5;66;43;03m# s\u001B[39;49;00m\n\u001B[1;32m      3\u001B[0m \u001B[43m)\u001B[49m\n\u001B[1;32m      5\u001B[0m ansatz_1_probe_2 \u001B[38;5;241m=\u001B[39m auswertung(\n\u001B[1;32m      6\u001B[0m     t_Farbaenderung\u001B[38;5;241m=\u001B[39m\u001B[38;5;241m0\u001B[39m \u001B[38;5;66;03m# s\u001B[39;00m\n\u001B[1;32m      7\u001B[0m )\n\u001B[1;32m      9\u001B[0m ansatz_1_probe_3 \u001B[38;5;241m=\u001B[39m auswertung(\n\u001B[1;32m     10\u001B[0m     t_Farbaenderung\u001B[38;5;241m=\u001B[39m\u001B[38;5;241m0\u001B[39m \u001B[38;5;66;03m# s\u001B[39;00m\n\u001B[1;32m     11\u001B[0m )\n",
      "Cell \u001B[0;32mIn[9], line 3\u001B[0m, in \u001B[0;36mauswertung\u001B[0;34m(t_Farbaenderung)\u001B[0m\n\u001B[1;32m      1\u001B[0m \u001B[38;5;28;01mdef\u001B[39;00m \u001B[38;5;21mauswertung\u001B[39m(t_Farbaenderung: \u001B[38;5;28mfloat\u001B[39m) \u001B[38;5;241m-\u001B[39m\u001B[38;5;241m>\u001B[39m \u001B[38;5;28mfloat\u001B[39m:\n\u001B[1;32m      2\u001B[0m     n_Hydrogensulfit \u001B[38;5;241m=\u001B[39m \u001B[38;5;241m2\u001B[39m \u001B[38;5;241m*\u001B[39m c_Na2S2O5 \u001B[38;5;241m*\u001B[39m \u001B[38;5;241m50e-3\u001B[39m\n\u001B[0;32m----> 3\u001B[0m     \u001B[38;5;28;01mreturn\u001B[39;00m \u001B[43mn_Hydrogensulfit\u001B[49m\u001B[43m \u001B[49m\u001B[38;5;241;43m/\u001B[39;49m\u001B[43m \u001B[49m\u001B[43mt_Farbaenderung\u001B[49m\n",
      "\u001B[0;31mZeroDivisionError\u001B[0m: float division by zero"
     ]
    }
   ],
   "source": [
    "ansatz_1_probe_1 = realtionsgeschwindigkeit(\n",
    "    t_Farbaenderung=0  # s\n",
    ")\n",
    "\n",
    "ansatz_1_probe_2 = realtionsgeschwindigkeit(\n",
    "    t_Farbaenderung=0  # s\n",
    ")\n",
    "\n",
    "ansatz_1_probe_3 = realtionsgeschwindigkeit(\n",
    "    t_Farbaenderung=0  # s\n",
    ")\n",
    "print([ansatz_1_probe_1, ansatz_1_probe_2, ansatz_1_probe_3])\n"
   ]
  },
  {
   "cell_type": "code",
   "execution_count": 11,
   "id": "b1722fb108694b7c",
   "metadata": {
    "ExecuteTime": {
     "end_time": "2025-03-03T20:59:12.986259Z",
     "start_time": "2025-03-03T20:59:12.919188Z"
    }
   },
   "outputs": [
    {
     "ename": "ZeroDivisionError",
     "evalue": "float division by zero",
     "output_type": "error",
     "traceback": [
      "\u001B[0;31m---------------------------------------------------------------------------\u001B[0m",
      "\u001B[0;31mZeroDivisionError\u001B[0m                         Traceback (most recent call last)",
      "Cell \u001B[0;32mIn[11], line 1\u001B[0m\n\u001B[0;32m----> 1\u001B[0m ansatz_2_probe_1 \u001B[38;5;241m=\u001B[39m \u001B[43mauswertung\u001B[49m\u001B[43m(\u001B[49m\n\u001B[1;32m      2\u001B[0m \u001B[43m    \u001B[49m\u001B[43mt_Farbaenderung\u001B[49m\u001B[38;5;241;43m=\u001B[39;49m\u001B[38;5;241;43m0\u001B[39;49m\u001B[43m \u001B[49m\u001B[38;5;66;43;03m# s\u001B[39;49;00m\n\u001B[1;32m      3\u001B[0m \u001B[43m)\u001B[49m\n\u001B[1;32m      5\u001B[0m ansatz_2_probe_2 \u001B[38;5;241m=\u001B[39m auswertung(\n\u001B[1;32m      6\u001B[0m     t_Farbaenderung\u001B[38;5;241m=\u001B[39m\u001B[38;5;241m0\u001B[39m \u001B[38;5;66;03m# s\u001B[39;00m\n\u001B[1;32m      7\u001B[0m )\n\u001B[1;32m      9\u001B[0m ansatz_2_probe_3 \u001B[38;5;241m=\u001B[39m auswertung(\n\u001B[1;32m     10\u001B[0m     t_Farbaenderung\u001B[38;5;241m=\u001B[39m\u001B[38;5;241m0\u001B[39m \u001B[38;5;66;03m# s\u001B[39;00m\n\u001B[1;32m     11\u001B[0m )\n",
      "Cell \u001B[0;32mIn[9], line 3\u001B[0m, in \u001B[0;36mauswertung\u001B[0;34m(t_Farbaenderung)\u001B[0m\n\u001B[1;32m      1\u001B[0m \u001B[38;5;28;01mdef\u001B[39;00m \u001B[38;5;21mauswertung\u001B[39m(t_Farbaenderung: \u001B[38;5;28mfloat\u001B[39m) \u001B[38;5;241m-\u001B[39m\u001B[38;5;241m>\u001B[39m \u001B[38;5;28mfloat\u001B[39m:\n\u001B[1;32m      2\u001B[0m     n_Hydrogensulfit \u001B[38;5;241m=\u001B[39m \u001B[38;5;241m2\u001B[39m \u001B[38;5;241m*\u001B[39m c_Na2S2O5 \u001B[38;5;241m*\u001B[39m \u001B[38;5;241m50e-3\u001B[39m\n\u001B[0;32m----> 3\u001B[0m     \u001B[38;5;28;01mreturn\u001B[39;00m \u001B[43mn_Hydrogensulfit\u001B[49m\u001B[43m \u001B[49m\u001B[38;5;241;43m/\u001B[39;49m\u001B[43m \u001B[49m\u001B[43mt_Farbaenderung\u001B[49m\n",
      "\u001B[0;31mZeroDivisionError\u001B[0m: float division by zero"
     ]
    }
   ],
   "source": [
    "ansatz_2_probe_1 = realtionsgeschwindigkeit(\n",
    "    t_Farbaenderung=0  # s\n",
    ")\n",
    "\n",
    "ansatz_2_probe_2 = realtionsgeschwindigkeit(\n",
    "    t_Farbaenderung=0  # s\n",
    ")\n",
    "\n",
    "ansatz_2_probe_3 = realtionsgeschwindigkeit(\n",
    "    t_Farbaenderung=0  # s\n",
    ")\n",
    "print([ansatz_2_probe_1, ansatz_2_probe_2, ansatz_2_probe_3])\n"
   ]
  },
  {
   "cell_type": "markdown",
   "id": "cfa0673394f7a60d",
   "metadata": {},
   "source": [
    "Nun kann die Reaktionsordnung durch folgende Gleichung bestimmt werden:\n",
    "$$\\frac{v1}{v2} = \\left(\\frac{[\\ce{IO3-}]_1}{[\\ce{IO3-}]_2}\\right)^a$$\n",
    "Es folgt\n",
    "$$a = \\log_{\\frac{[\\ce{IO3-}]_1}{[\\ce{IO3-}]_2}}\\frac{v1}{v2}$$"
   ]
  },
  {
   "cell_type": "code",
   "execution_count": 20,
   "id": "4030c4233512a449",
   "metadata": {
    "ExecuteTime": {
     "end_time": "2025-03-03T22:45:26.713038Z",
     "start_time": "2025-03-03T22:45:25.877996Z"
    }
   },
   "outputs": [
    {
     "ename": "NameError",
     "evalue": "name 'ansatz_1_probe_1' is not defined",
     "output_type": "error",
     "traceback": [
      "\u001B[0;31m---------------------------------------------------------------------------\u001B[0m",
      "\u001B[0;31mNameError\u001B[0m                                 Traceback (most recent call last)",
      "Cell \u001B[0;32mIn[20], line 5\u001B[0m\n\u001B[1;32m      1\u001B[0m \u001B[38;5;28;01mdef\u001B[39;00m \u001B[38;5;21mreaktionsordnung\u001B[39m(v_ansatz_1, v_ansatz_2):\n\u001B[1;32m      2\u001B[0m     \u001B[38;5;28;01mreturn\u001B[39;00m math\u001B[38;5;241m.\u001B[39mlog(v_ansatz_1 \u001B[38;5;241m/\u001B[39m v_ansatz_2, \u001B[38;5;241m2\u001B[39m)\n\u001B[1;32m      4\u001B[0m order_1\u001B[38;5;241m=\u001B[39m reaktionsordnung(\n\u001B[0;32m----> 5\u001B[0m     \u001B[43mansatz_1_probe_1\u001B[49m,ansatz_2_probe_1\n\u001B[1;32m      6\u001B[0m )\n\u001B[1;32m      8\u001B[0m order_2 \u001B[38;5;241m=\u001B[39m reaktionsordnung(\n\u001B[1;32m      9\u001B[0m     ansatz_1_probe_2,ansatz_2_probe_2\n\u001B[1;32m     10\u001B[0m )\n\u001B[1;32m     12\u001B[0m order_3 \u001B[38;5;241m=\u001B[39m reaktionsordnung(\n\u001B[1;32m     13\u001B[0m     ansatz_1_probe_3,ansatz_2_probe_3\n\u001B[1;32m     14\u001B[0m )\n",
      "\u001B[0;31mNameError\u001B[0m: name 'ansatz_1_probe_1' is not defined"
     ]
    }
   ],
   "source": [
    "def reaktionsordnung(v_ansatz_1, v_ansatz_2):\n",
    "    return math.log(v_ansatz_1 / v_ansatz_2, 2)\n",
    "\n",
    "order_1= reaktionsordnung(\n",
    "    ansatz_1_probe_1,ansatz_2_probe_1\n",
    ")\n",
    "\n",
    "order_2 = reaktionsordnung(\n",
    "    ansatz_1_probe_2,ansatz_2_probe_2\n",
    ")\n",
    "\n",
    "order_3 = reaktionsordnung(\n",
    "    ansatz_1_probe_3,ansatz_2_probe_3\n",
    ")\n",
    "\n",
    "print([order_1, order_2, order_3])\n",
    "print(f\"Die Mittlere partielle Reaktionsordnung für Iodat ist {round(np.mean([order_1, order_2, order_3]),2)}\")"
   ]
  }
 ],
 "metadata": {
  "kernelspec": {
   "display_name": "Python 3 (ipykernel)",
   "language": "python",
   "name": "python3"
  },
  "language_info": {
   "codemirror_mode": {
    "name": "ipython",
    "version": 3
   },
   "file_extension": ".py",
   "mimetype": "text/x-python",
   "name": "python",
   "nbconvert_exporter": "python",
   "pygments_lexer": "ipython3",
   "version": "3.12.7"
  }
 },
 "nbformat": 4,
 "nbformat_minor": 9
}
